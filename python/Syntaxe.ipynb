{
 "cells": [
  {
   "cell_type": "markdown",
   "metadata": {},
   "source": [
    "# Le langage Python \n",
    "\n",
    "\n",
    "Python est un langage de programmation. Il est l'un des langages de programmation les plus intéressants du moment. Les mesures de l’indice PyPL du mois de mai 2018 se caractérisent par l’arrivée de Python, pour la première fois, à la tête du classement des langages de programmation les plus populaires selon le baromètre. L'indice PyPL évalue la popularité des langues en fonction de la fréquence de recherche dans les didacticiels du langage. \n",
    "<https://www.developpez.com>\n",
    "\n",
    "[source : Stéphane le calme Mai 2018]\n",
    "\n",
    "\n",
    "Facile à apprendre, python est souvent utilisé en exemple lors de l'apprentissage de la programmation. Avec les variables, les boucles et les fonctions, on connaît suffisamment d’éléments pour écrire des programmes. Le plus difficile n’est pas forcément de les comprendre mais plutôt d’arriver à découper un algorithme complexe en utilisant ces briques élémentaires. C’est donc l’objectif de ce notebook. \n"
   ]
  },
  {
   "cell_type": "markdown",
   "metadata": {},
   "source": [
    "### Python c'est quoi ? \n",
    "\n",
    "C'est un langage de programmation inventé par Guido van Rossum. La première version de python est sortie en 1991.\n",
    "Python est **un langage de programmation interprété** , c'est à dire qu'il n'est pas nécessaire de le compiler avant de l'exécuter. \n",
    "\n",
    "Python est **à la fois simple et puissant**, il vous permet d'écrire des scripts très simples mais grâce à ses nombreuses bibliothèques, vous pouvez travailler sur des projets plus ambitieux.\n",
    "\n",
    "### Pourquoi Python \n",
    "\n",
    "Python est un langage facile à apprendre et son code est plus lisible, il est donc plus facile à maintenir. Il est parfois **jusqu'à 5 fois plus concis que le langage Java** par exemple, ce qui augmente la productivité du développeur et réduit mécaniquement le nombre de bugs. L'environnement python est notamment très riche en librairies. Vous trouverez toujours des projets open source qui vous faciliteront la vie notamment sur <https://github.com/>.\n",
    "\n",
    "### Installons Python \n",
    "\n",
    "Voir le README à la racine du git. \n",
    "\n",
    "## Quickstart\n",
    "\n",
    "Comme tout langage de programmation, Python a une syntaxe claire : on ne peut pas lui envoyer n'importe quelle information dans n'importe quel ordre. Nous allons voir ici ce que Python mange… et ce qu'il ne mange pas.\n",
    "\n",
    "### Les variables \n",
    "Comme vous le savez, une variable est une donnée de votre programme, stockée dans votre ordinateur. En python **les variables ne sont pas typées\"** on peut donc écrire : "
   ]
  },
  {
   "cell_type": "code",
   "execution_count": 1,
   "metadata": {},
   "outputs": [],
   "source": [
    "test = 'test'"
   ]
  },
  {
   "cell_type": "code",
   "execution_count": 1,
   "metadata": {},
   "outputs": [
    {
     "data": {
      "text/plain": [
       "40"
      ]
     },
     "execution_count": 1,
     "metadata": {},
     "output_type": "execute_result"
    }
   ],
   "source": [
    "age = 30\n",
    "age + 10"
   ]
  },
  {
   "cell_type": "code",
   "execution_count": 3,
   "metadata": {},
   "outputs": [
    {
     "data": {
      "text/plain": [
       "\"J'ai 30 ans et je suis encore jeune!\""
      ]
     },
     "execution_count": 3,
     "metadata": {},
     "output_type": "execute_result"
    }
   ],
   "source": [
    "#ou bien \n",
    "age = \"J'ai 30 ans\"\n",
    "age = age + \" et je suis encore jeune!\"\n",
    "age "
   ]
  },
  {
   "cell_type": "markdown",
   "metadata": {},
   "source": [
    "### Les structures conditionnelles et les boucles \n",
    "\n",
    "Les conditions permettent d'exécuter une ou plusieurs instructions dans un cas, d'autres instructions dans un autre cas. Nous allons passer rapidement en revue les différentes structures en python. "
   ]
  },
  {
   "cell_type": "code",
   "execution_count": 5,
   "metadata": {},
   "outputs": [
    {
     "name": "stdout",
     "output_type": "stream",
     "text": [
      "a = 5 et b = 9\n"
     ]
    }
   ],
   "source": [
    "# IF \n",
    "a = 5\n",
    "b = 8\n",
    "if a > 0:\n",
    "    # On incrémente la valeur de b\n",
    "    b += 1\n",
    "    # On affiche les valeurs des variables\n",
    "    print(\"a =\",a,\"et b =\",b)"
   ]
  },
  {
   "cell_type": "code",
   "execution_count": 7,
   "metadata": {},
   "outputs": [
    {
     "name": "stdout",
     "output_type": "stream",
     "text": [
      "a est positif.\n"
     ]
    }
   ],
   "source": [
    "if a > 0: # Positif\n",
    "    print(\"a est positif.\")\n",
    "elif a < 0: # Négatif\n",
    "    print(\"a est négatif.\")\n",
    "else: # Nul\n",
    "    print(\"a est nul.\")"
   ]
  },
  {
   "cell_type": "code",
   "execution_count": 8,
   "metadata": {},
   "outputs": [
    {
     "name": "stdout",
     "output_type": "stream",
     "text": [
      "1 * 7 = 7\n",
      "2 * 7 = 14\n",
      "3 * 7 = 21\n",
      "4 * 7 = 28\n",
      "5 * 7 = 35\n",
      "6 * 7 = 42\n",
      "7 * 7 = 49\n",
      "8 * 7 = 56\n",
      "9 * 7 = 63\n",
      "10 * 7 = 70\n"
     ]
    }
   ],
   "source": [
    "# WHILE \n",
    "nb = 7 # On garde la variable contenant le nombre dont on veut la table de multiplication\n",
    "i = 0 # C'est notre variable compteur que nous allons incrémenter dans la boucle\n",
    "\n",
    "while i < 10: # Tant que i est strictement inférieure à 10\n",
    "    print(i + 1, \"*\", nb, \"=\", (i + 1) * nb)\n",
    "    i += 1 # On incrémente i de 1 à chaque tour de boucle\n",
    "    "
   ]
  },
  {
   "cell_type": "code",
   "execution_count": 9,
   "metadata": {},
   "outputs": [
    {
     "name": "stdout",
     "output_type": "stream",
     "text": [
      "B\n",
      "o\n",
      "n\n",
      "j\n",
      "o\n",
      "u\n",
      "r\n",
      " \n",
      "l\n",
      "e\n",
      "s\n",
      " \n",
      "Z\n",
      "E\n",
      "R\n",
      "0\n",
      "S\n"
     ]
    }
   ],
   "source": [
    "# FOR \n",
    "chaine = \"Bonjour les ZER0S\"\n",
    "for lettre in chaine:\n",
    "    print(lettre)"
   ]
  },
  {
   "cell_type": "code",
   "execution_count": null,
   "metadata": {},
   "outputs": [],
   "source": [
    "# BREAK \n",
    "while 1: # 1 est toujours vrai -> boucle infinie\n",
    "    lettre = input(\"Tapez 'Q' pour quitter : \")\n",
    "    if lettre == \"Q\":\n",
    "        print(\"Fin de la boucle\")\n",
    "        break"
   ]
  },
  {
   "cell_type": "markdown",
   "metadata": {},
   "source": [
    "### Les fonctions"
   ]
  },
  {
   "cell_type": "code",
   "execution_count": 3,
   "metadata": {},
   "outputs": [
    {
     "name": "stdout",
     "output_type": "stream",
     "text": [
      "1 * 3 = 3\n",
      "2 * 3 = 6\n",
      "3 * 3 = 9\n",
      "4 * 3 = 12\n",
      "5 * 3 = 15\n",
      "6 * 3 = 18\n",
      "7 * 3 = 21\n",
      "8 * 3 = 24\n",
      "9 * 3 = 27\n",
      "10 * 3 = 30\n"
     ]
    }
   ],
   "source": [
    "def table(nb, max=10):\n",
    "    \"\"\"Fonction affichant la table de multiplication par nb\n",
    "    de 1*nb à max*nb\n",
    "    \n",
    "    (max >= 0)\"\"\"\n",
    "    i = 0\n",
    "    while i < max:\n",
    "        print(i + 1, \"*\", nb, \"=\", (i + 1) * nb)\n",
    "        i += 1\n",
    "        \n",
    "table(3,10) "
   ]
  },
  {
   "cell_type": "markdown",
   "metadata": {},
   "source": [
    "### Les objets \n",
    "\n",
    "Comme vous le savez, en informatique, l'objet est un **conteneur symbolique et autonome qui contient des informations et des mécanismes concernant un sujet**, manipulés dans un programme.\n",
    "\n",
    "#### Les chaine de caractères "
   ]
  },
  {
   "cell_type": "code",
   "execution_count": 2,
   "metadata": {},
   "outputs": [
    {
     "data": {
      "text/plain": [
       "5"
      ]
     },
     "execution_count": 2,
     "metadata": {},
     "output_type": "execute_result"
    }
   ],
   "source": [
    "chaine = \"Salut\"\n",
    "len(chaine)"
   ]
  },
  {
   "cell_type": "code",
   "execution_count": 4,
   "metadata": {},
   "outputs": [
    {
     "name": "stdout",
     "output_type": "stream",
     "text": [
      "bac\n"
     ]
    }
   ],
   "source": [
    "mot = \"lac\"\n",
    "mot = \"b\" + mot[1:]\n",
    "print(mot)"
   ]
  },
  {
   "cell_type": "code",
   "execution_count": 6,
   "metadata": {},
   "outputs": [
    {
     "name": "stdout",
     "output_type": "stream",
     "text": [
      "[1, 2, 3, 4, 5]\n"
     ]
    },
    {
     "data": {
      "text/plain": [
       "1"
      ]
     },
     "execution_count": 6,
     "metadata": {},
     "output_type": "execute_result"
    }
   ],
   "source": [
    "# Les listes \n",
    "ma_liste = [] #liste vide\n",
    "ma_liste = [1, 2, 3, 4, 5] # Une liste avec cinq objets\n",
    "print(ma_liste)\n",
    "ma_liste[0] # On accède au premier élément de la liste"
   ]
  },
  {
   "cell_type": "code",
   "execution_count": 8,
   "metadata": {},
   "outputs": [
    {
     "data": {
      "text/plain": [
       "[1, 2, 'c', 'c', 3, 4, 5]"
      ]
     },
     "execution_count": 8,
     "metadata": {},
     "output_type": "execute_result"
    }
   ],
   "source": [
    "ma_liste.insert(2, 'c') # On insère 'c' à l'indice 2\n",
    "ma_liste"
   ]
  },
  {
   "cell_type": "code",
   "execution_count": 9,
   "metadata": {},
   "outputs": [
    {
     "name": "stdout",
     "output_type": "stream",
     "text": [
      "a\n",
      "b\n",
      "c\n",
      "d\n",
      "e\n",
      "f\n",
      "g\n",
      "h\n"
     ]
    }
   ],
   "source": [
    "#parcours de liste \n",
    "ma_liste = ['a', 'b', 'c', 'd', 'e', 'f', 'g', 'h']\n",
    "i = 0 # Notre indice pour la boucle while\n",
    "while i < len(ma_liste):\n",
    "    print(ma_liste[i])\n",
    "    i += 1 # On incrémente i, ne pas oublier !"
   ]
  },
  {
   "cell_type": "code",
   "execution_count": 10,
   "metadata": {},
   "outputs": [
    {
     "name": "stdout",
     "output_type": "stream",
     "text": [
      "(0, 'a')\n",
      "(1, 'b')\n",
      "(2, 'c')\n",
      "(3, 'd')\n",
      "(4, 'e')\n",
      "(5, 'f')\n",
      "(6, 'g')\n",
      "(7, 'h')\n"
     ]
    }
   ],
   "source": [
    "#enumerate prend en paramètre une liste et renvoie un objet qui peut être associé à une liste contenant deux valeurs par élément : l'indice et l'élément de la liste parcouru.\n",
    "for elt in enumerate(ma_liste):\n",
    "    print(elt)"
   ]
  },
  {
   "cell_type": "code",
   "execution_count": 13,
   "metadata": {},
   "outputs": [
    {
     "data": {
      "text/plain": [
       "(1, 2, 5)"
      ]
     },
     "execution_count": 13,
     "metadata": {},
     "output_type": "execute_result"
    }
   ],
   "source": [
    "#les tuples \n",
    "tuple_vide = ()\n",
    "tuple_non_vide = (1,) # est équivalent à ci dessous\n",
    "tuple_non_vide = 1,\n",
    "tuple_avec_plusieurs_valeurs = (1, 2, 5)\n",
    "tuple_avec_plusieurs_valeurs"
   ]
  },
  {
   "cell_type": "markdown",
   "metadata": {},
   "source": [
    "Il est assez rare que l'on travaille directement sur des tuples. C'est, après tout, un type que l'on ne peut pas modifier. On ne peut supprimer d'éléments d'un tuple, ni en ajouter. Cela vous paraît peut-être encore assez abstrait mais il peut être utile de travailler sur des données sans pouvoir les modifier."
   ]
  },
  {
   "cell_type": "code",
   "execution_count": 14,
   "metadata": {},
   "outputs": [
    {
     "data": {
      "text/plain": [
       "[0, 1, 4, 9, 16, 25]"
      ]
     },
     "execution_count": 14,
     "metadata": {},
     "output_type": "execute_result"
    }
   ],
   "source": [
    "liste_origine = [0, 1, 2, 3, 4, 5]\n",
    "[nb * nb for nb in liste_origine]\n"
   ]
  },
  {
   "cell_type": "markdown",
   "metadata": {},
   "source": [
    "#### Les dictionnaires  \n",
    "\n",
    "Les dictionnaires sont des objets pouvant en contenir d'autres, à l'instar des listes. Cependant, au lieu d'héberger des informations dans un ordre précis, ils associent chaque objet contenu à une clé (la plupart du temps, une chaîne de caractères). "
   ]
  },
  {
   "cell_type": "code",
   "execution_count": 15,
   "metadata": {},
   "outputs": [
    {
     "data": {
      "text/plain": [
       "{'nom': 'engel', 'prenom': 'olivier'}"
      ]
     },
     "execution_count": 15,
     "metadata": {},
     "output_type": "execute_result"
    }
   ],
   "source": [
    "#création du dictionnaire \n",
    "a = {}\n",
    "a[\"nom\"] = \"engel\"\n",
    "a[\"prenom\"] = \"olivier\"\n",
    "a"
   ]
  },
  {
   "cell_type": "code",
   "execution_count": 17,
   "metadata": {},
   "outputs": [
    {
     "data": {
      "text/plain": [
       "'engel'"
      ]
     },
     "execution_count": 17,
     "metadata": {},
     "output_type": "execute_result"
    }
   ],
   "source": [
    "#récupération d'une valeur \n",
    "a.get('nom')"
   ]
  },
  {
   "cell_type": "code",
   "execution_count": 19,
   "metadata": {},
   "outputs": [
    {
     "data": {
      "text/plain": [
       "{'pantalon': 6, 'tee shirt': 7}"
      ]
     },
     "execution_count": 19,
     "metadata": {},
     "output_type": "execute_result"
    }
   ],
   "source": [
    "#supprimer des valeurs \n",
    "placard = {\"chemise\":3, \"pantalon\":6, \"tee shirt\":7}\n",
    "del placard[\"chemise\"]\n",
    "placard"
   ]
  },
  {
   "cell_type": "markdown",
   "metadata": {},
   "source": [
    "**En résumé**\n",
    "\n",
    "- Pour créer un dictionnaire, on utilise la syntaxedictionnaire = {cle1:valeur1, cle2:valeur2, cleN:valeurN}.\n",
    "- On peut ajouter ou remplacer un élément dans un dictionnaire :dictionnaire[cle] = valeur.\n",
    "- On peut supprimer une clé (et sa valeur correspondante) d'un dictionnaire en utilisant, au choix, le mot-clédelou la méthodepop.\n",
    "- On peut parcourir un dictionnaire grâce aux méthodeskeys(parcourt les clés),values(parcourt les valeurs) ouitems(parcourt les couples clé-valeur)."
   ]
  },
  {
   "cell_type": "markdown",
   "metadata": {},
   "source": [
    "### Les classes \n",
    "\n",
    "Une classe regroupe des fonctions et des attributs qui définissent un objet. On appelle par ailleurs les fonctions d'une classe des \"méthodes\""
   ]
  },
  {
   "cell_type": "code",
   "execution_count": 21,
   "metadata": {},
   "outputs": [],
   "source": [
    "class Voiture:\n",
    "\n",
    "\tdef __init__(self):\n",
    "\t\tself.nom = \"Ferrari\"\n",
    "\n",
    "\tdef donne_moi_le_modele(self):\n",
    "\t\treturn \"250\""
   ]
  },
  {
   "cell_type": "code",
   "execution_count": 24,
   "metadata": {},
   "outputs": [
    {
     "data": {
      "text/plain": [
       "'250'"
      ]
     },
     "execution_count": 24,
     "metadata": {},
     "output_type": "execute_result"
    }
   ],
   "source": [
    "#déclaration de l'objet \n",
    "ma_voiture=Voiture()\n",
    "#utilisation de la méthode \n",
    "ma_voiture.donne_moi_le_modele()"
   ]
  },
  {
   "cell_type": "markdown",
   "metadata": {},
   "source": [
    "#### Les propriétés \n",
    "\n",
    "Quelque soit le langage, pour la programmation orientée objet il est de préférable de passer par des propriétés pour changer les valeurs des attributs. Alors bien que cela ne soit pas obligatoire, il existe une convention de passer par des getter (ou accesseur en francais) et des setter ( mutateurs ) pour changer la valeur d'un attribut. "
   ]
  },
  {
   "cell_type": "code",
   "execution_count": 26,
   "metadata": {},
   "outputs": [],
   "source": [
    "class Voiture(object):\n",
    "\n",
    "    def __init__(self):\n",
    "        self._roues=4\n",
    "\n",
    "    def _get_roues(self):\n",
    "        print(\"Récupération du nombre de roues\")\n",
    "        return self._roues\n",
    "\n",
    "    def _set_roues(self, v):\n",
    "        print(\"Changement du nombre de roues\")\n",
    "        self._roues  =  v\n",
    "\n",
    "    roues=property(_get_roues, _set_roues)"
   ]
  },
  {
   "cell_type": "code",
   "execution_count": 27,
   "metadata": {},
   "outputs": [
    {
     "name": "stdout",
     "output_type": "stream",
     "text": [
      "Changement du nombre de roues\n",
      "Récupération du nombre de roues\n"
     ]
    },
    {
     "data": {
      "text/plain": [
       "5"
      ]
     },
     "execution_count": 27,
     "metadata": {},
     "output_type": "execute_result"
    }
   ],
   "source": [
    "ma_voiture=Voiture()\n",
    "ma_voiture.roues=5\n",
    "ma_voiture.roues"
   ]
  },
  {
   "cell_type": "code",
   "execution_count": 30,
   "metadata": {},
   "outputs": [],
   "source": [
    "#Il existe une autre syntaxe en passant par des décorateurs\n",
    "class Voiture(object):\n",
    "\n",
    "    def __init__(self):\n",
    "        self._roues=4\n",
    "\n",
    "    @property\n",
    "    def roues(self):\n",
    "        print(\"Récupération du nombre de roues\")\n",
    "        return self._roues\n",
    "\n",
    "    @roues.setter\n",
    "    def roues(self, v):\n",
    "        print(\"Changement du nombre de roues\")\n",
    "        self._roues  =  v"
   ]
  },
  {
   "cell_type": "markdown",
   "metadata": {},
   "source": [
    "Un décorateur est une fonction qui modifie le comportement d'autres fonctions. Les décorateurs sont utiles lorsque l'on veut ajouter du même code à plusieurs fonctions existantes.\n",
    "\n",
    "\n",
    "### L'héritage \n",
    "\n",
    "Enfin dernier point intéressant: il est possible d'appeler la méthode du parent puis de faire la spécificité de la méthode. On peut d'ailleurs appeler n'importe quelle autre méthode."
   ]
  },
  {
   "cell_type": "code",
   "execution_count": 31,
   "metadata": {},
   "outputs": [
    {
     "name": "stdout",
     "output_type": "stream",
     "text": [
      "La voiture démarre\n",
      "La voiture de sport démarre\n"
     ]
    }
   ],
   "source": [
    "class Voiture:\n",
    "\n",
    "    roues = 4\n",
    "    moteur = 1\n",
    "\n",
    "    def __init__(self):\n",
    "        self.nom = \"A déterminer\"\n",
    "        \n",
    "    def allumer(self):\n",
    "        print(\"La voiture démarre\")\n",
    "\n",
    "class VoitureSport(Voiture):\n",
    "\n",
    "    def __init__(self):\n",
    "        self.nom = \"Ferrari\"\n",
    "        \n",
    "    def allumer(self):\n",
    "        Voiture.allumer(self)\n",
    "        print(\"La voiture de sport démarre\")\n",
    "\n",
    "ma_voiture_sport = VoitureSport()\n",
    "ma_voiture_sport.allumer()"
   ]
  }
 ],
 "metadata": {
  "kernelspec": {
   "display_name": "Python 3",
   "language": "python",
   "name": "python3"
  },
  "language_info": {
   "codemirror_mode": {
    "name": "ipython",
    "version": 3
   },
   "file_extension": ".py",
   "mimetype": "text/x-python",
   "name": "python",
   "nbconvert_exporter": "python",
   "pygments_lexer": "ipython3",
   "version": "3.7.3"
  }
 },
 "nbformat": 4,
 "nbformat_minor": 2
}
